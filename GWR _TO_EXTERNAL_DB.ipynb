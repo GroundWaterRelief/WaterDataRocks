{
 "cells": [
  {
   "cell_type": "code",
   "execution_count": null,
   "id": "59d9b846",
   "metadata": {},
   "outputs": [],
   "source": [
    "#below is the access code that Groundwater Relief will provide you with to access your data.\n",
    "#replace the ... by 'ACCESSCODEPROVIDED'\n",
    "\n",
    "GWR_ACCESS_CODE = ..."
   ]
  },
  {
   "cell_type": "code",
   "execution_count": null,
   "id": "8b8e3b5d",
   "metadata": {},
   "outputs": [],
   "source": [
    "# Import of the Monitoring Values\n, you do not have to change anything, just run the code",
    "\n",
    "import requests\n",
    "import pandas as pd\n",
    "\n",
    "url = \"https://app.waterdatarocks.org/api/dataprovider/values\"\n",
    "\n",
    "payload = \"\"\n",
    "headers = {\n",
    "  'GWR_ACCESS_CODE': GWR_ACCESS_CODE,\n",
    "  'Authorization': 'Bearer null'\n",
    "}\n",
    "\n",
    "response = requests.request(\"GET\", url, headers=headers, data=payload)\n",
    "\n",
    "# and display of the data as a data frame\n",
    "\n",
    "monitoring_data = pd.DataFrame.from_records(response.json())\n",
    "monitoring_data\n"
   ]
  },
  {
   "cell_type": "code",
   "execution_count": null,
   "id": "01e88c4d",
   "metadata": {},
   "outputs": [],
   "source": [
    "# Import of the Monitoring Points\n",
    "\n",
    "import requests\n",
    "\n",
    "url = \"https://app.waterdatarocks.org/api/dataprovider/monitoringpoints\"\n",
    "\n",
    "payload = \"\"\n",
    "headers = {\n",
    "  'Accept': 'application/json',\n",
    "  'GWR_ACCESS_CODE': GWR_ACCESS_CODE,\n",
    "  'Authorization': 'Bearer null'\n",
    "}\n",
    "\n",
    "response = requests.request(\"GET\", url, headers=headers, data=payload)\n",
    "# and display of the data as a data frame\n",
    "locations = pd.DataFrame.from_records(response.json())\n",
    "\n",
    "locations\n"
   ]
  },
  {
   "cell_type": "code",
   "execution_count": null,
   "id": "4fe388c5",
   "metadata": {},
   "outputs": [],
   "source": [
    "# Example of merging data from the 2 endpoints PLEASE DO NOT TAKE THIS AS THE CORRECT WAY AND MERGE AS YOU NEED\n",
    "merged_data = pd.merge(\n",
    "    locations,\n",
    "    monitoring_data, \n",
    "    how=\"inner\", # We only want values that have location data (point exists / has been found) AND has a data acquistion value (this may ve changed based on how you desire to join the tables)\n",
    "    # This is the mapping of ids between the data eg. locations.idMonitoringPoint is the same value as monitoring_data.MonitoringPoint_idMonitoringPoint\n",
    "    left_on=\"idMonitoringPoint\",\n",
    "    right_on=\"MonitoringPoint_idMonitoringPoint\"\n",
    ")\n",
    "\n",
    "merged_data\n",
    "\n",
    "# Example of manipulation you can do with it :\n",
    "# Export to csv: merged_data.to_csv(...)\n",
    "# Export to SQL: merged_data.to_sql(...)\n",
    "# Rename the specific columns from GWR nomenclature to the client name merged_data.rename(...)\n"
   ]
  }
 ],
 "metadata": {
  "kernelspec": {
   "display_name": "Python 3 (ipykernel)",
   "language": "python",
   "name": "python3"
  },
  "language_info": {
   "codemirror_mode": {
    "name": "ipython",
    "version": 3
   },
   "file_extension": ".py",
   "mimetype": "text/x-python",
   "name": "python",
   "nbconvert_exporter": "python",
   "pygments_lexer": "ipython3",
   "version": "3.10.9"
  }
 },
 "nbformat": 4,
 "nbformat_minor": 5
}
